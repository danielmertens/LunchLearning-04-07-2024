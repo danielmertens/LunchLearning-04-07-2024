{
 "cells": [
  {
   "cell_type": "markdown",
   "metadata": {},
   "source": [
    "# Optional lambda expressions\n",
    "\n",
    "Starting with C# 12, it's possible to add a default parameter to lambda expressions."
   ]
  },
  {
   "cell_type": "code",
   "execution_count": null,
   "metadata": {
    "dotnet_interactive": {
     "language": "csharp"
    },
    "polyglot_notebook": {
     "kernelName": "csharp"
    },
    "vscode": {
     "languageId": "polyglot-notebook"
    }
   },
   "outputs": [],
   "source": [
    "var increment = (int value, int increment = 1) => value + increment;\n",
    "Console.WriteLine(increment(5)); // 6\n",
    "Console.WriteLine(increment(5, 2)); // 7"
   ]
  },
  {
   "cell_type": "markdown",
   "metadata": {},
   "source": [
    "It's also possible to use the `params` keyword in your lambda expressions now."
   ]
  },
  {
   "cell_type": "code",
   "execution_count": null,
   "metadata": {
    "dotnet_interactive": {
     "language": "csharp"
    },
    "polyglot_notebook": {
     "kernelName": "csharp"
    },
    "vscode": {
     "languageId": "polyglot-notebook"
    }
   },
   "outputs": [],
   "source": [
    "var sum = (params int[] values) => values.Sum();\n",
    "Console.WriteLine(sum(1, 2, 3, 4, 5)); // 15\n",
    "Console.WriteLine(sum()); // 0"
   ]
  },
  {
   "cell_type": "markdown",
   "metadata": {},
   "source": [
    "A motivation for this is to improve the new minimal api's"
   ]
  },
  {
   "cell_type": "code",
   "execution_count": null,
   "metadata": {
    "dotnet_interactive": {
     "language": "csharp"
    },
    "polyglot_notebook": {
     "kernelName": "csharp"
    },
    "vscode": {
     "languageId": "polyglot-notebook"
    }
   },
   "outputs": [],
   "source": [
    "#r \"nuget:Microsoft.DotNet.Interactive.AspNetCore, *-*\""
   ]
  },
  {
   "cell_type": "code",
   "execution_count": null,
   "metadata": {
    "dotnet_interactive": {
     "language": "csharp"
    },
    "polyglot_notebook": {
     "kernelName": "csharp"
    },
    "vscode": {
     "languageId": "polyglot-notebook"
    }
   },
   "outputs": [],
   "source": [
    "#!aspnet\n",
    "\n",
    "// Before C# 12\n",
    "\n",
    "StringContent CreateTodo(int id, string task = \"Default\")\n",
    "{\n",
    "  var todo = $\"Created todo with id {id} and task {task}.\";\n",
    "  return new StringContent(todo);\n",
    "}\n",
    "\n",
    "Endpoints.MapPost(\"/todos/{id}\", CreateTodo);\n",
    "\n",
    "// ========================================================\n",
    "// With C# 12\n",
    "\n",
    "Endpoints.MapPost(\"/todos/{id}\", (int id, string task = \"Default\") => {\n",
    "  var todo = $\"Created todo with id {id} and task {task}.\";\n",
    "  return new StringContent(todo);\n",
    "});\n",
    "\n",
    "Endpoints.MapPost(\"/pages/{pageNumber}\", (int pageNumber = 1) => {\n",
    "  var content = $\"Get content of page {pageNumber}.\";\n",
    "  return new StringContent(content);\n",
    "});"
   ]
  },
  {
   "cell_type": "markdown",
   "metadata": {},
   "source": [
    "## Breaking change\n",
    "\n",
    "This isn't a huge breaking change. You will only run into this in specific scenarios where you are using the command pattern for example.\n",
    "\n",
    "This change does signify that that lambda functions are being treated more and more like actual functions by the compiler. This is a step in the right direction for C# since it reduced the complexity of the language."
   ]
  },
  {
   "cell_type": "code",
   "execution_count": null,
   "metadata": {
    "dotnet_interactive": {
     "language": "csharp"
    },
    "polyglot_notebook": {
     "kernelName": "csharp"
    },
    "vscode": {
     "languageId": "polyglot-notebook"
    }
   },
   "outputs": [],
   "source": [
    "void WriteInt(int i = 0) {\n",
    "  Console.Write(i);\n",
    "}\n",
    "\n",
    "var writeInt = WriteInt; // Inferred as Action<int> in C# 11. | Inferred as anonymous delegate type in C# 12.\n",
    "DoAction(writeInt, 3); // Ok in C# 11. | Compiletime error in C# 12.\n",
    "\n",
    "void DoAction(Action<int> a, int p) {\n",
    "  a(p);\n",
    "}"
   ]
  }
 ],
 "metadata": {
  "kernelspec": {
   "display_name": ".NET (C#)",
   "language": "C#",
   "name": ".net-csharp"
  },
  "language_info": {
   "name": "csharp"
  },
  "polyglot_notebook": {
   "kernelInfo": {
    "defaultKernelName": "csharp",
    "items": [
     {
      "aliases": [],
      "name": "csharp"
     }
    ]
   }
  }
 },
 "nbformat": 4,
 "nbformat_minor": 2
}
