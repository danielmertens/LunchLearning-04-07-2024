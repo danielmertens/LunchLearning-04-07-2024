{
 "cells": [
  {
   "cell_type": "markdown",
   "metadata": {},
   "source": [
    "# Keyed dependency injection services\n",
    "\n",
    "- The `IKeyedServiceProvider` interface.\n",
    "- The `ServiceKeyAttribute` attribute, which can be used to inject the key that was used for registration/resolution in the constructor.\n",
    "- The `FromKeyedServicesAttribute` attribute, which can be used on service constructor parameters to specify which keyed service to use.\n",
    "- Various new extension methods for `IServiceCollection` to support keyed services, for example, `ServiceCollectionServiceExtensions.AddKeyedScoped`.\n",
    "- The `ServiceProvider` implementation of `IKeyedServiceProvider`."
   ]
  },
  {
   "cell_type": "code",
   "execution_count": null,
   "metadata": {
    "dotnet_interactive": {
     "language": "csharp"
    },
    "polyglot_notebook": {
     "kernelName": "csharp"
    },
    "vscode": {
     "languageId": "polyglot-notebook"
    }
   },
   "outputs": [],
   "source": [
    "#r \"nuget:Microsoft.DotNet.Interactive.AspNetCore, *-*\""
   ]
  },
  {
   "cell_type": "code",
   "execution_count": null,
   "metadata": {
    "dotnet_interactive": {
     "language": "csharp"
    },
    "polyglot_notebook": {
     "kernelName": "csharp"
    },
    "vscode": {
     "languageId": "polyglot-notebook"
    }
   },
   "outputs": [],
   "source": [
    "#!aspnet\n",
    "using Microsoft.Extensions.DependencyInjection;\n",
    "\n",
    "var builder = WebApplication.CreateBuilder();\n",
    "\n",
    "builder.Services.AddSingleton<BigCacheConsumer>();\n",
    "builder.Services.AddSingleton<SmallCacheConsumer>();\n",
    "builder.Services.AddKeyedSingleton<ICache, BigCache>(\"big\");\n",
    "builder.Services.AddKeyedSingleton<ICache, SmallCache>(\"small\");\n",
    "\n",
    "var app = builder.Build();\n",
    "\n",
    "app.MapGet(\"/big\", (BigCacheConsumer data) => data.GetData());\n",
    "app.MapGet(\"/small\", (SmallCacheConsumer data) => data.GetData());\n",
    "app.MapGet(\"/big-cache\", ([FromKeyedServices(\"big\")] ICache cache) => cache.Get(\"data\"));\n",
    "app.MapGet(\"/small-cache\", (HttpContext httpContext) => httpContext.RequestServices.GetRequiredKeyedService<ICache>(\"small\").Get(\"data\"));\n",
    "\n",
    "app.Run();\n",
    "\n",
    "class BigCacheConsumer([FromKeyedServices(\"big\")] ICache cache)\n",
    "{\n",
    "    public object? GetData() => cache.Get(\"data\");\n",
    "}\n",
    "\n",
    "class SmallCacheConsumer(IServiceProvider serviceProvider)\n",
    "{\n",
    "    public object? GetData() => serviceProvider.GetRequiredKeyedService<ICache>(\"small\").Get(\"data\");\n",
    "}\n",
    "\n",
    "public interface ICache\n",
    "{\n",
    "    object Get(string key);\n",
    "}\n",
    "\n",
    "public class BigCache : ICache\n",
    "{\n",
    "    public object Get(string key) => $\"Resolving {key} from big cache.\";\n",
    "}\n",
    "\n",
    "public class SmallCache : ICache\n",
    "{\n",
    "    public object Get(string key) => $\"Resolving {key} from small cache.\";\n",
    "}"
   ]
  },
  {
   "cell_type": "markdown",
   "metadata": {},
   "source": [
    "## Real world example"
   ]
  },
  {
   "cell_type": "code",
   "execution_count": null,
   "metadata": {
    "dotnet_interactive": {
     "language": "csharp"
    },
    "polyglot_notebook": {
     "kernelName": "csharp"
    },
    "vscode": {
     "languageId": "polyglot-notebook"
    }
   },
   "outputs": [],
   "source": [
    "public class User {}\n",
    "\n",
    "public interface IUserService {\n",
    "    Task<User> GetUser(string userId);\n",
    "    Task<IEnumerable<User>> GetUsers();\n",
    "}\n",
    "\n",
    "public interface IUserServiceAsUser : IUserService { }\n",
    "public interface IUserServiceAsApp : IUserService { }\n",
    "\n",
    "public class AADUserService : IUserService, IUserServiceAsUser, IUserServiceAsApp { }\n",
    "\n",
    "services.AddScoped<IUserServiceAsApp>(sp => new AADUserService(/* app specific login service*/));\n",
    "services.AddScoped<IUserServiceAsUser>(sp => new AADUserService(/* user specific login service*/));\n",
    "\n",
    "// with keyed DI\n",
    "builder.Services.AddKeyedScoped<IUserService>(\"app\", sp => new AADUserService(/* app specific login service*/)));\n",
    "builder.Services.AddKeyedScoped<IUserService>(\"user\", sp => new AADUserService(/* user specific login service*/));\n",
    "\n",
    "public void GetUsers([FromKeyedServices(\"app\")] IUserService userService) { } \n",
    "public void GetUsers([FromKeyedServices(\"user\")] IUserService userService) { } "
   ]
  }
 ],
 "metadata": {
  "language_info": {
   "name": "csharp"
  }
 },
 "nbformat": 4,
 "nbformat_minor": 2
}
